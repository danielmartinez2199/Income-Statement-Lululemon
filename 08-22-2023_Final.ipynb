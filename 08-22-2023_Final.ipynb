{
 "cells": [
  {
   "cell_type": "markdown",
   "metadata": {},
   "source": [
    "# Libraries and Data Loading"
   ]
  },
  {
   "cell_type": "markdown",
   "metadata": {},
   "source": [
    "## Libraries"
   ]
  },
  {
   "cell_type": "code",
   "execution_count": 1,
   "metadata": {},
   "outputs": [],
   "source": [
    "import numpy as np\n",
    "import pandas as pd\n",
    "import seaborn as sns\n",
    "import matplotlib.pyplot as plt\n",
    "import plotly.graph_objects as go\n",
    "import warnings\n",
    "import yfinance as yf\n",
    "warnings.filterwarnings(\"ignore\")\n",
    "\n",
    "sns.set_style('darkgrid')\n",
    "%matplotlib inline"
   ]
  },
  {
   "cell_type": "markdown",
   "metadata": {},
   "source": [
    "## Data Loading"
   ]
  },
  {
   "cell_type": "code",
   "execution_count": 2,
   "metadata": {},
   "outputs": [
    {
     "name": "stdout",
     "output_type": "stream",
     "text": [
      "                                        Column_1  Column_2\n",
      "0                                    Net revenue   8110518\n",
      "1                             Cost of goods sold   3618178\n",
      "2                                   Gross profit   4492340\n",
      "3   Selling, general and administrative expenses   2757447\n",
      "4              Amortization of intangible assets      8752\n",
      "5        Impairment of goodwill and other assets    407913\n",
      "6                   Acquisition-related expenses         0\n",
      "7                     Gain on disposal of assets    -10180\n",
      "8                         Income from operations   1328408\n",
      "9                    Other income (expense), net      4163\n",
      "10              Income before income tax expense   1332571\n",
      "11                            Income tax expense    477771\n",
      "12                                    Net income    854800\n",
      "{'Net revenue': 8110518000, 'Cost of goods sold': 3618178000, 'Gross profit': 4492340000, 'Selling, general and administrative expenses': 2757447000, 'Amortization of intangible assets': 8752000, 'Impairment of goodwill and other assets': 407913000, 'Acquisition-related expenses': 0, 'Gain on disposal of assets': -10180000, 'Income from operations': 1328408000, 'Other income (expense), net': 4163000, 'Income before income tax expense': 1332571000, 'Income tax expense': 477771000, 'Net income': 854800000}\n"
     ]
    }
   ],
   "source": [
    "from openpyxl import load_workbook\n",
    "\n",
    "def read_income_statement_data(file_path, sheet_name, cell_range):\n",
    "    try:\n",
    "        # Load the Excel file\n",
    "        wb = load_workbook(file_path)\n",
    "        sheet = wb[sheet_name]\n",
    "        \n",
    "        # Extract data from the specified cell range and convert it to a DataFrame\n",
    "        data = [[cell.value for cell in row] for row in sheet[cell_range]]\n",
    "        df = pd.DataFrame(data, columns=[f\"Column_{i}\" for i in range(1, len(data[0]) + 1)])\n",
    "        \n",
    "        print(df)\n",
    "        \n",
    "        # Convert DataFrame to a dictionary with \"Column_1\" as keys and \"Column_2\" as values\n",
    "        income_statement_dict = df.set_index('Column_1')['Column_2'].to_dict()\n",
    "        \n",
    "        # Return the dictionary containing the data\n",
    "        return income_statement_dict\n",
    "    \n",
    "    except Exception as e:\n",
    "        print(f\"Error occurred while reading data: {e}\")\n",
    "        return None\n",
    "\n",
    "if __name__ == \"__main__\":\n",
    "    file_path = r\"E:\\Personal Folder\\Personal Projects\\Python\\Projects\\Personal Projects\\Income Statement\\Data\\LULULEMON ATHLETICA INC. - 10-K.xlsx\"\n",
    "    sheet_name = \"INCOME_STATEMENT\"\n",
    "    cell_range = \"B17:C29\"\n",
    "    \n",
    "    income_statement_data = read_income_statement_data(file_path, sheet_name, cell_range)\n",
    "    if income_statement_data is not None:\n",
    "        # Multiply each value by 1000\n",
    "        for key in income_statement_data:\n",
    "            income_statement_data[key] *= 1000\n",
    "        print(income_statement_data)\n",
    "        # Perform further operations on the income_statement_data if needed\n"
   ]
  },
  {
   "cell_type": "markdown",
   "metadata": {},
   "source": [
    "# Sankey Diagram"
   ]
  },
  {
   "cell_type": "markdown",
   "metadata": {},
   "source": [
    "## Data Loading\n",
    "### Manually loading data from income statement data (dictionary format) above"
   ]
  },
  {
   "cell_type": "code",
   "execution_count": 3,
   "metadata": {},
   "outputs": [],
   "source": [
    "income_statement_data = {\n",
    "    'USA': 5654000000,\n",
    "    'Canada': 1163000000,\n",
    "    'China': 682000000,\n",
    "    'World': 611000000,    \n",
    "    'Net revenue': 8110518000,\n",
    "    'Cost of goods sold': 3618178000,\n",
    "    'Gross profit': 4492340000,\n",
    "    'Selling, general and administrative expenses': 2757447000,\n",
    "    'Amortization of intangible assets': 8752000,\n",
    "    'Impairment of goodwill and other assets': 407913000,\n",
    "    'Acquisition-related expenses': 0,\n",
    "    'Gain on disposal of assets': -10180000,\n",
    "    'Income from operations': 1328408000,\n",
    "    'Other income (expense), net': 4163000,\n",
    "    'Income before income tax expense': 1332571000,\n",
    "    'Income tax expense': 477771000,\n",
    "    'Net income': 854800000\n",
    "}"
   ]
  },
  {
   "cell_type": "markdown",
   "metadata": {},
   "source": [
    "## Visualization"
   ]
  },
  {
   "cell_type": "code",
   "execution_count": 4,
   "metadata": {},
   "outputs": [
    {
     "data": {
      "application/vnd.plotly.v1+json": {
       "config": {
        "plotlyServerURL": "https://plot.ly"
       },
       "data": [
        {
         "link": {
          "source": [
           0,
           1,
           2,
           3,
           11,
           4,
           4,
           4,
           4,
           4,
           15,
           16
          ],
          "target": [
           4,
           4,
           4,
           4,
           4,
           6,
           5,
           7,
           8,
           9,
           6,
           6
          ],
          "value": [
           5654000000,
           1163000000,
           682000000,
           611000000,
           10180000,
           4492340000,
           3618178000,
           2757447000,
           8752000,
           407913000,
           477771000,
           854800000
          ]
         },
         "node": {
          "label": [
           "USA",
           "Canada",
           "China",
           "World",
           "Net revenue",
           "Cost of goods sold",
           "Gross profit",
           "Selling, general and administrative expenses",
           "Amortization of intangible assets",
           "Impairment of goodwill and other assets",
           "Acquisition-related expenses",
           "Gain on disposal of assets",
           "Income from operations",
           "Other income (expense), net",
           "Income before income tax expense",
           "Income tax expense",
           "Net income"
          ]
         },
         "type": "sankey"
        }
       ],
       "layout": {
        "annotations": [
         {
          "font": {
           "size": 10
          },
          "showarrow": false,
          "text": "Source: Lululemon Investor Relations and 2022 Form 10-K",
          "x": 1,
          "xanchor": "right",
          "xref": "paper",
          "y": -0.2,
          "yanchor": "bottom",
          "yref": "paper"
         }
        ],
        "template": {
         "data": {
          "bar": [
           {
            "error_x": {
             "color": "#2a3f5f"
            },
            "error_y": {
             "color": "#2a3f5f"
            },
            "marker": {
             "line": {
              "color": "#E5ECF6",
              "width": 0.5
             },
             "pattern": {
              "fillmode": "overlay",
              "size": 10,
              "solidity": 0.2
             }
            },
            "type": "bar"
           }
          ],
          "barpolar": [
           {
            "marker": {
             "line": {
              "color": "#E5ECF6",
              "width": 0.5
             },
             "pattern": {
              "fillmode": "overlay",
              "size": 10,
              "solidity": 0.2
             }
            },
            "type": "barpolar"
           }
          ],
          "carpet": [
           {
            "aaxis": {
             "endlinecolor": "#2a3f5f",
             "gridcolor": "white",
             "linecolor": "white",
             "minorgridcolor": "white",
             "startlinecolor": "#2a3f5f"
            },
            "baxis": {
             "endlinecolor": "#2a3f5f",
             "gridcolor": "white",
             "linecolor": "white",
             "minorgridcolor": "white",
             "startlinecolor": "#2a3f5f"
            },
            "type": "carpet"
           }
          ],
          "choropleth": [
           {
            "colorbar": {
             "outlinewidth": 0,
             "ticks": ""
            },
            "type": "choropleth"
           }
          ],
          "contour": [
           {
            "colorbar": {
             "outlinewidth": 0,
             "ticks": ""
            },
            "colorscale": [
             [
              0,
              "#0d0887"
             ],
             [
              0.1111111111111111,
              "#46039f"
             ],
             [
              0.2222222222222222,
              "#7201a8"
             ],
             [
              0.3333333333333333,
              "#9c179e"
             ],
             [
              0.4444444444444444,
              "#bd3786"
             ],
             [
              0.5555555555555556,
              "#d8576b"
             ],
             [
              0.6666666666666666,
              "#ed7953"
             ],
             [
              0.7777777777777778,
              "#fb9f3a"
             ],
             [
              0.8888888888888888,
              "#fdca26"
             ],
             [
              1,
              "#f0f921"
             ]
            ],
            "type": "contour"
           }
          ],
          "contourcarpet": [
           {
            "colorbar": {
             "outlinewidth": 0,
             "ticks": ""
            },
            "type": "contourcarpet"
           }
          ],
          "heatmap": [
           {
            "colorbar": {
             "outlinewidth": 0,
             "ticks": ""
            },
            "colorscale": [
             [
              0,
              "#0d0887"
             ],
             [
              0.1111111111111111,
              "#46039f"
             ],
             [
              0.2222222222222222,
              "#7201a8"
             ],
             [
              0.3333333333333333,
              "#9c179e"
             ],
             [
              0.4444444444444444,
              "#bd3786"
             ],
             [
              0.5555555555555556,
              "#d8576b"
             ],
             [
              0.6666666666666666,
              "#ed7953"
             ],
             [
              0.7777777777777778,
              "#fb9f3a"
             ],
             [
              0.8888888888888888,
              "#fdca26"
             ],
             [
              1,
              "#f0f921"
             ]
            ],
            "type": "heatmap"
           }
          ],
          "heatmapgl": [
           {
            "colorbar": {
             "outlinewidth": 0,
             "ticks": ""
            },
            "colorscale": [
             [
              0,
              "#0d0887"
             ],
             [
              0.1111111111111111,
              "#46039f"
             ],
             [
              0.2222222222222222,
              "#7201a8"
             ],
             [
              0.3333333333333333,
              "#9c179e"
             ],
             [
              0.4444444444444444,
              "#bd3786"
             ],
             [
              0.5555555555555556,
              "#d8576b"
             ],
             [
              0.6666666666666666,
              "#ed7953"
             ],
             [
              0.7777777777777778,
              "#fb9f3a"
             ],
             [
              0.8888888888888888,
              "#fdca26"
             ],
             [
              1,
              "#f0f921"
             ]
            ],
            "type": "heatmapgl"
           }
          ],
          "histogram": [
           {
            "marker": {
             "pattern": {
              "fillmode": "overlay",
              "size": 10,
              "solidity": 0.2
             }
            },
            "type": "histogram"
           }
          ],
          "histogram2d": [
           {
            "colorbar": {
             "outlinewidth": 0,
             "ticks": ""
            },
            "colorscale": [
             [
              0,
              "#0d0887"
             ],
             [
              0.1111111111111111,
              "#46039f"
             ],
             [
              0.2222222222222222,
              "#7201a8"
             ],
             [
              0.3333333333333333,
              "#9c179e"
             ],
             [
              0.4444444444444444,
              "#bd3786"
             ],
             [
              0.5555555555555556,
              "#d8576b"
             ],
             [
              0.6666666666666666,
              "#ed7953"
             ],
             [
              0.7777777777777778,
              "#fb9f3a"
             ],
             [
              0.8888888888888888,
              "#fdca26"
             ],
             [
              1,
              "#f0f921"
             ]
            ],
            "type": "histogram2d"
           }
          ],
          "histogram2dcontour": [
           {
            "colorbar": {
             "outlinewidth": 0,
             "ticks": ""
            },
            "colorscale": [
             [
              0,
              "#0d0887"
             ],
             [
              0.1111111111111111,
              "#46039f"
             ],
             [
              0.2222222222222222,
              "#7201a8"
             ],
             [
              0.3333333333333333,
              "#9c179e"
             ],
             [
              0.4444444444444444,
              "#bd3786"
             ],
             [
              0.5555555555555556,
              "#d8576b"
             ],
             [
              0.6666666666666666,
              "#ed7953"
             ],
             [
              0.7777777777777778,
              "#fb9f3a"
             ],
             [
              0.8888888888888888,
              "#fdca26"
             ],
             [
              1,
              "#f0f921"
             ]
            ],
            "type": "histogram2dcontour"
           }
          ],
          "mesh3d": [
           {
            "colorbar": {
             "outlinewidth": 0,
             "ticks": ""
            },
            "type": "mesh3d"
           }
          ],
          "parcoords": [
           {
            "line": {
             "colorbar": {
              "outlinewidth": 0,
              "ticks": ""
             }
            },
            "type": "parcoords"
           }
          ],
          "pie": [
           {
            "automargin": true,
            "type": "pie"
           }
          ],
          "scatter": [
           {
            "fillpattern": {
             "fillmode": "overlay",
             "size": 10,
             "solidity": 0.2
            },
            "type": "scatter"
           }
          ],
          "scatter3d": [
           {
            "line": {
             "colorbar": {
              "outlinewidth": 0,
              "ticks": ""
             }
            },
            "marker": {
             "colorbar": {
              "outlinewidth": 0,
              "ticks": ""
             }
            },
            "type": "scatter3d"
           }
          ],
          "scattercarpet": [
           {
            "marker": {
             "colorbar": {
              "outlinewidth": 0,
              "ticks": ""
             }
            },
            "type": "scattercarpet"
           }
          ],
          "scattergeo": [
           {
            "marker": {
             "colorbar": {
              "outlinewidth": 0,
              "ticks": ""
             }
            },
            "type": "scattergeo"
           }
          ],
          "scattergl": [
           {
            "marker": {
             "colorbar": {
              "outlinewidth": 0,
              "ticks": ""
             }
            },
            "type": "scattergl"
           }
          ],
          "scattermapbox": [
           {
            "marker": {
             "colorbar": {
              "outlinewidth": 0,
              "ticks": ""
             }
            },
            "type": "scattermapbox"
           }
          ],
          "scatterpolar": [
           {
            "marker": {
             "colorbar": {
              "outlinewidth": 0,
              "ticks": ""
             }
            },
            "type": "scatterpolar"
           }
          ],
          "scatterpolargl": [
           {
            "marker": {
             "colorbar": {
              "outlinewidth": 0,
              "ticks": ""
             }
            },
            "type": "scatterpolargl"
           }
          ],
          "scatterternary": [
           {
            "marker": {
             "colorbar": {
              "outlinewidth": 0,
              "ticks": ""
             }
            },
            "type": "scatterternary"
           }
          ],
          "surface": [
           {
            "colorbar": {
             "outlinewidth": 0,
             "ticks": ""
            },
            "colorscale": [
             [
              0,
              "#0d0887"
             ],
             [
              0.1111111111111111,
              "#46039f"
             ],
             [
              0.2222222222222222,
              "#7201a8"
             ],
             [
              0.3333333333333333,
              "#9c179e"
             ],
             [
              0.4444444444444444,
              "#bd3786"
             ],
             [
              0.5555555555555556,
              "#d8576b"
             ],
             [
              0.6666666666666666,
              "#ed7953"
             ],
             [
              0.7777777777777778,
              "#fb9f3a"
             ],
             [
              0.8888888888888888,
              "#fdca26"
             ],
             [
              1,
              "#f0f921"
             ]
            ],
            "type": "surface"
           }
          ],
          "table": [
           {
            "cells": {
             "fill": {
              "color": "#EBF0F8"
             },
             "line": {
              "color": "white"
             }
            },
            "header": {
             "fill": {
              "color": "#C8D4E3"
             },
             "line": {
              "color": "white"
             }
            },
            "type": "table"
           }
          ]
         },
         "layout": {
          "annotationdefaults": {
           "arrowcolor": "#2a3f5f",
           "arrowhead": 0,
           "arrowwidth": 1
          },
          "autotypenumbers": "strict",
          "coloraxis": {
           "colorbar": {
            "outlinewidth": 0,
            "ticks": ""
           }
          },
          "colorscale": {
           "diverging": [
            [
             0,
             "#8e0152"
            ],
            [
             0.1,
             "#c51b7d"
            ],
            [
             0.2,
             "#de77ae"
            ],
            [
             0.3,
             "#f1b6da"
            ],
            [
             0.4,
             "#fde0ef"
            ],
            [
             0.5,
             "#f7f7f7"
            ],
            [
             0.6,
             "#e6f5d0"
            ],
            [
             0.7,
             "#b8e186"
            ],
            [
             0.8,
             "#7fbc41"
            ],
            [
             0.9,
             "#4d9221"
            ],
            [
             1,
             "#276419"
            ]
           ],
           "sequential": [
            [
             0,
             "#0d0887"
            ],
            [
             0.1111111111111111,
             "#46039f"
            ],
            [
             0.2222222222222222,
             "#7201a8"
            ],
            [
             0.3333333333333333,
             "#9c179e"
            ],
            [
             0.4444444444444444,
             "#bd3786"
            ],
            [
             0.5555555555555556,
             "#d8576b"
            ],
            [
             0.6666666666666666,
             "#ed7953"
            ],
            [
             0.7777777777777778,
             "#fb9f3a"
            ],
            [
             0.8888888888888888,
             "#fdca26"
            ],
            [
             1,
             "#f0f921"
            ]
           ],
           "sequentialminus": [
            [
             0,
             "#0d0887"
            ],
            [
             0.1111111111111111,
             "#46039f"
            ],
            [
             0.2222222222222222,
             "#7201a8"
            ],
            [
             0.3333333333333333,
             "#9c179e"
            ],
            [
             0.4444444444444444,
             "#bd3786"
            ],
            [
             0.5555555555555556,
             "#d8576b"
            ],
            [
             0.6666666666666666,
             "#ed7953"
            ],
            [
             0.7777777777777778,
             "#fb9f3a"
            ],
            [
             0.8888888888888888,
             "#fdca26"
            ],
            [
             1,
             "#f0f921"
            ]
           ]
          },
          "colorway": [
           "#636efa",
           "#EF553B",
           "#00cc96",
           "#ab63fa",
           "#FFA15A",
           "#19d3f3",
           "#FF6692",
           "#B6E880",
           "#FF97FF",
           "#FECB52"
          ],
          "font": {
           "color": "#2a3f5f"
          },
          "geo": {
           "bgcolor": "white",
           "lakecolor": "white",
           "landcolor": "#E5ECF6",
           "showlakes": true,
           "showland": true,
           "subunitcolor": "white"
          },
          "hoverlabel": {
           "align": "left"
          },
          "hovermode": "closest",
          "mapbox": {
           "style": "light"
          },
          "paper_bgcolor": "white",
          "plot_bgcolor": "#E5ECF6",
          "polar": {
           "angularaxis": {
            "gridcolor": "white",
            "linecolor": "white",
            "ticks": ""
           },
           "bgcolor": "#E5ECF6",
           "radialaxis": {
            "gridcolor": "white",
            "linecolor": "white",
            "ticks": ""
           }
          },
          "scene": {
           "xaxis": {
            "backgroundcolor": "#E5ECF6",
            "gridcolor": "white",
            "gridwidth": 2,
            "linecolor": "white",
            "showbackground": true,
            "ticks": "",
            "zerolinecolor": "white"
           },
           "yaxis": {
            "backgroundcolor": "#E5ECF6",
            "gridcolor": "white",
            "gridwidth": 2,
            "linecolor": "white",
            "showbackground": true,
            "ticks": "",
            "zerolinecolor": "white"
           },
           "zaxis": {
            "backgroundcolor": "#E5ECF6",
            "gridcolor": "white",
            "gridwidth": 2,
            "linecolor": "white",
            "showbackground": true,
            "ticks": "",
            "zerolinecolor": "white"
           }
          },
          "shapedefaults": {
           "line": {
            "color": "#2a3f5f"
           }
          },
          "ternary": {
           "aaxis": {
            "gridcolor": "white",
            "linecolor": "white",
            "ticks": ""
           },
           "baxis": {
            "gridcolor": "white",
            "linecolor": "white",
            "ticks": ""
           },
           "bgcolor": "#E5ECF6",
           "caxis": {
            "gridcolor": "white",
            "linecolor": "white",
            "ticks": ""
           }
          },
          "title": {
           "x": 0.05
          },
          "xaxis": {
           "automargin": true,
           "gridcolor": "white",
           "linecolor": "white",
           "ticks": "",
           "title": {
            "standoff": 15
           },
           "zerolinecolor": "white",
           "zerolinewidth": 2
          },
          "yaxis": {
           "automargin": true,
           "gridcolor": "white",
           "linecolor": "white",
           "ticks": "",
           "title": {
            "standoff": 15
           },
           "zerolinecolor": "white",
           "zerolinewidth": 2
          }
         }
        },
        "title": {
         "text": "Lululemon Economics Sankey Diagram",
         "x": 0.5
        }
       }
      }
     },
     "metadata": {},
     "output_type": "display_data"
    }
   ],
   "source": [
    "label_list = list(income_statement_data.keys())\n",
    "source = [0, 1, 2, 3, 11, 4, 4, 4, 4, 4, 15, 16]\n",
    "target = [4, 4, 4, 4, 4, 6, 5, 7, 8, 9, 6, 6]\n",
    "count = [5654000000, 1163000000, 682000000, 611000000, 10180000, 4492340000, 3618178000, 2757447000, 8752000, 407913000, 477771000, 854800000]\n",
    "\n",
    "fig = go.Figure(data=[go.Sankey(\n",
    "    node = {\"label\": label_list},\n",
    "    link = {\"source\": source, \"target\": target, \"value\": count}\n",
    "    )])\n",
    "\n",
    "fig.update_layout(\n",
    "    title=\"Lululemon Economics Sankey Diagram\",\n",
    "    title_x=0.5,  # This value centers the title horizontally\n",
    "    annotations=[\n",
    "        dict(\n",
    "            text=\"Source: Lululemon Investor Relations and 2022 Form 10-K\",\n",
    "            showarrow=False,\n",
    "            xref=\"paper\",\n",
    "            yref=\"paper\",\n",
    "            x=1,\n",
    "            y=-0.2,\n",
    "            xanchor=\"right\",\n",
    "            yanchor=\"bottom\",\n",
    "            font=dict(size=10),\n",
    "        )\n",
    "    ],\n",
    ")\n",
    "\n",
    "fig.show()"
   ]
  },
  {
   "cell_type": "markdown",
   "metadata": {},
   "source": [
    "# Profitability Ratio Analysis\n",
    "The Profitability ratio analysis involves assessing a company's financial health by examining ratios such as gross profit margin, net profit margin, and return on equity, which provide insights into its ability to generate profits relative to expenses and investments. \n",
    "This analysis is valuable for evaluating a company's efficiency and performance."
   ]
  },
  {
   "cell_type": "code",
   "execution_count": 5,
   "metadata": {},
   "outputs": [
    {
     "name": "stdout",
     "output_type": "stream",
     "text": [
      "      Net revenue  Cost of goods sold  Income from operations  Net Income  \\\n",
      "Year                                                                        \n",
      "2022      8110518             3618178                 1328408      854800   \n",
      "\n",
      "      GrossProfit  GrossProfitMargin  OperatingProfitMargin  NetProfitMargin  \n",
      "Year                                                                          \n",
      "2022      4492340           0.553891               0.163788         0.105394  \n"
     ]
    }
   ],
   "source": [
    "import pandas as pd\n",
    "\n",
    "# Sample income statement data\n",
    "income_statement_data = {\n",
    "    'Year': [2022],  # Since we have one set of data, we'll consider it for one year\n",
    "    'Net revenue': [8110518],\n",
    "    'Cost of goods sold': [3618178],\n",
    "    'Income from operations': [1328408],\n",
    "    'Net Income': [854800]\n",
    "}\n",
    "\n",
    "# Create a DataFrame with 'Year' as the index\n",
    "df = pd.DataFrame(income_statement_data)\n",
    "df.set_index('Year', inplace=True)\n",
    "\n",
    "# Calculate profitability ratios\n",
    "df['GrossProfit'] = df['Net revenue'] - df['Cost of goods sold']\n",
    "df['GrossProfitMargin'] = df['GrossProfit'] / df['Net revenue']\n",
    "df['OperatingProfitMargin'] = df['Income from operations'] / df['Net revenue']\n",
    "df['NetProfitMargin'] = df['Net Income'] / df['Net revenue']\n",
    "\n",
    "# Display the DataFrame with profitability ratios\n",
    "print(df)\n"
   ]
  },
  {
   "cell_type": "markdown",
   "metadata": {},
   "source": [
    "## Industry Benchmark Comparison\n",
    "### Compare Lululemon's profitability ratios with industry benchmarks to assess its financial health and competitiveness."
   ]
  },
  {
   "cell_type": "code",
   "execution_count": 6,
   "metadata": {},
   "outputs": [
    {
     "name": "stdout",
     "output_type": "stream",
     "text": [
      "GrossProfitMargin: Difference from Industry Benchmark (2022) = 0.035891\n",
      "OperatingProfitMargin: Difference from Industry Benchmark (2022) = 0.039788\n",
      "NetProfitMargin: Difference from Industry Benchmark (2022) = 0.028394\n"
     ]
    }
   ],
   "source": [
    "# Given profitability ratios for Lululemon in 2022\n",
    "lululemon_ratios = {\n",
    "    'GrossProfitMargin': 0.553891,\n",
    "    'OperatingProfitMargin': 0.163788,\n",
    "    'NetProfitMargin': 0.105394\n",
    "}\n",
    "\n",
    "# Industry benchmark profitability ratios for Lululemon in 2022 (data obtained from ReadyRatio.com)\n",
    "industry_benchmarks_2022 = {\n",
    "    'GrossProfitMargin': 0.518000,\n",
    "    'OperatingProfitMargin': 0.124000,\n",
    "    'NetProfitMargin': 0.077000\n",
    "}\n",
    "\n",
    "# Calculate the differences between Lululemon's ratios and industry benchmarks for 2022\n",
    "ratio_differences_2022 = {key: lululemon_ratios[key] - industry_benchmarks_2022[key] for key in lululemon_ratios}\n",
    "\n",
    "# Display the ratio differences for 2022\n",
    "for ratio, difference in ratio_differences_2022.items():\n",
    "    print(f\"{ratio}: Difference from Industry Benchmark (2022) = {difference:.6f}\")"
   ]
  },
  {
   "cell_type": "markdown",
   "metadata": {},
   "source": [
    "As evident from the data, Lululemon's profitability ratios surpass those of the industry benchmarks. This signifies that Lululemon achieves a higher level of profitability compared to the typical companies within its sector. The most notable disparity emerges in the gross profit margin, exceeding the industry benchmark by 3.59%. Consequently, Lululemon effectively retains a larger portion of its sales as profit after accounting for the cost of goods sold.\n",
    "\n",
    "These elevated profitability ratios might stem from various contributing factors, including:\n",
    "\n",
    "1. Lululemon's robust brand identity and esteemed reputation.\n",
    "2. The exceptional quality of its products.\n",
    "3. Its dedicated emphasis on delivering exceptional customer service.\n",
    "4. The optimization of its supply chain for efficiency.\n",
    "\n",
    "Collectively, Lululemon's profitability ratios underscore its robust financial health and suggest that the company operates with adept management and strategic execution."
   ]
  },
  {
   "cell_type": "markdown",
   "metadata": {},
   "source": [
    "# Break-Even Analysis\n",
    "The break-even analysis determines the point at which a business's total revenue equals its total costs, resulting in neither profit nor loss."
   ]
  },
  {
   "cell_type": "markdown",
   "metadata": {},
   "source": [
    "### Fixed and Variable Cost Calculation"
   ]
  },
  {
   "cell_type": "code",
   "execution_count": 7,
   "metadata": {},
   "outputs": [
    {
     "name": "stdout",
     "output_type": "stream",
     "text": [
      "Total Fixed Costs: $416,665,000\n",
      "Total Variable Costs: $6,853,396,000\n"
     ]
    }
   ],
   "source": [
    "income_statement_data = {\n",
    "    'USA': 5654000000,\n",
    "    'Canada': 1163000000,\n",
    "    'China': 682000000,\n",
    "    'World': 611000000,    \n",
    "    'Net revenue': 8110518000,\n",
    "    'Cost of goods sold': 3618178000,\n",
    "    'Gross profit': 4492340000,\n",
    "    'Selling, general and administrative expenses': 2757447000,\n",
    "    'Amortization of intangible assets': 8752000,\n",
    "    'Impairment of goodwill and other assets': 407913000,\n",
    "    'Acquisition-related expenses': 0,\n",
    "    'Gain on disposal of assets': -10180000,\n",
    "    'Income from operations': 1328408000,\n",
    "    'Other income (expense), net': 4163000,\n",
    "    'Income before income tax expense': 1332571000,\n",
    "    'Income tax expense': 477771000,\n",
    "    'Net income': 854800000\n",
    "}\n",
    "\n",
    "# Define fixed cost categories\n",
    "fixed_cost_categories = ['Amortization of intangible assets', 'Impairment of goodwill and other assets', 'Acquisition-related expenses']\n",
    "\n",
    "# Define variable cost categories\n",
    "variable_cost_categories = ['Cost of goods sold', 'Selling, general and administrative expenses', 'Income tax expense']\n",
    "\n",
    "# Calculate total fixed costs\n",
    "total_fixed_costs = sum(income_statement_data.get(category, 0) for category in fixed_cost_categories)\n",
    "\n",
    "# Calculate total variable costs\n",
    "total_variable_costs = sum(income_statement_data.get(category, 0) for category in variable_cost_categories)\n",
    "\n",
    "# Display the total fixed costs and total variable costs\n",
    "print(f\"Total Fixed Costs: ${total_fixed_costs:,}\")\n",
    "print(f\"Total Variable Costs: ${total_variable_costs:,}\")"
   ]
  },
  {
   "cell_type": "markdown",
   "metadata": {},
   "source": [
    "Variable Costs:\n",
    "\n",
    "Cost of goods sold (COGS): This includes expenses directly associated with the production of goods, and it can vary based on the level of production or sales.\n",
    "Selling, general and administrative expenses (SG&A): These costs can include various operating expenses that can fluctuate based on business activities and decisions.\n",
    "Income tax expense: This can vary depending on the company's profitability and tax rates."
   ]
  },
  {
   "cell_type": "markdown",
   "metadata": {},
   "source": [
    "Fixed Costs\n",
    "Amortization of Intangible Assets: Amortization is the systematic allocation of the cost of intangible assets (such as patents, copyrights, trademarks) over their useful lives. The amortization expense is typically fixed over time and doesn't directly fluctuate with changes in production levels or business activities. It's a non-cash expense that reflects the gradual consumption of the asset's value.\n",
    "\n",
    "Impairment of Goodwill and Other Assets: Impairment charges occur when the carrying value of an asset (like goodwill or other intangible assets) exceeds its recoverable amount. Impairment charges are generally not directly tied to production levels or business activities. They arise due to changes in market conditions or internal assessments and are treated as one-time or irregular events, making them more characteristic of fixed costs.\n",
    "\n",
    "Acquisition-Related Expenses: These are costs incurred as a result of acquiring other companies or assets. These costs often include legal fees, consulting fees, and other expenses related to the acquisition process. They tend to be one-time or infrequent costs associated with strategic decisions and business expansion rather than directly linked to ongoing production levels."
   ]
  },
  {
   "cell_type": "markdown",
   "metadata": {},
   "source": [
    "### Analysis"
   ]
  },
  {
   "cell_type": "code",
   "execution_count": 8,
   "metadata": {},
   "outputs": [
    {
     "name": "stdout",
     "output_type": "stream",
     "text": [
      "The break-even point is 7,774,551 units.\n"
     ]
    }
   ],
   "source": [
    "def calculate_break_even(total_fixed_costs, variable_costs_per_unit, selling_price_per_unit):\n",
    "    try:\n",
    "        break_even_point = total_fixed_costs / (selling_price_per_unit - variable_costs_per_unit)\n",
    "        return break_even_point\n",
    "    except ZeroDivisionError:\n",
    "        return \"Selling price should be higher than variable costs per unit.\"\n",
    "\n",
    "# Provide the necessary inputs\n",
    "units_produced_2022 = 121500000 # assumed total production amount in 2022 based off 2021 (4,500,000) and 2020 (4,000,000) annual reports\n",
    "total_variable_costs = 6853396000 # from calculation above\n",
    "variable_costs_per_unit = total_variable_costs / units_produced_2022 # Variable costs per unit\n",
    "selling_price_per_unit = 110  # Average selling price per unit\n",
    "\n",
    "# Calculate the break-even point\n",
    "break_even_point = calculate_break_even(total_fixed_costs, variable_costs_per_unit, selling_price_per_unit)\n",
    "\n",
    "# Print the result\n",
    "if isinstance(break_even_point, str):\n",
    "    print(break_even_point)\n",
    "else:\n",
    "    print(f\"The break-even point is {int(break_even_point):,} units.\")\n"
   ]
  },
  {
   "cell_type": "markdown",
   "metadata": {},
   "source": [
    "# Earnings Per Share (EPS) Trends Analysis\n",
    "Analyzing the company's EPS over time to understand how the profitability per share has evolved\n",
    "Combining this with stock price data to explore the relationship between financial performance and stock market reactions"
   ]
  },
  {
   "cell_type": "markdown",
   "metadata": {},
   "source": [
    "## Data Loading for EPS Data"
   ]
  },
  {
   "cell_type": "code",
   "execution_count": 9,
   "metadata": {},
   "outputs": [
    {
     "name": "stdout",
     "output_type": "stream",
     "text": [
      "             EPS\n",
      "Date            \n",
      "2019-12-31  4.31\n",
      "2020-12-31  4.94\n",
      "2021-12-31  4.50\n",
      "2022-12-31  7.49\n",
      "2023-12-31  6.68\n"
     ]
    }
   ],
   "source": [
    "import pandas as pd\n",
    "\n",
    "# Define the date range\n",
    "start_date = '2019-01-01'\n",
    "end_date = '2023-12-31'\n",
    "\n",
    "# EPS data dictionary\n",
    "eps_data = {\n",
    "    2019: 4.31,\n",
    "    2020: 4.94,\n",
    "    2021: 4.5,\n",
    "    2022: 7.49,\n",
    "    2023: 6.68\n",
    "}\n",
    "\n",
    "# Convert dictionary to DataFrame\n",
    "eps_df = pd.DataFrame.from_dict(eps_data, orient='index', columns=['EPS'])\n",
    "\n",
    "# Convert the index to datetime format\n",
    "eps_df.index = pd.to_datetime(eps_df.index, format='%Y')\n",
    "\n",
    "# Change the index to December 31st of each year\n",
    "eps_df.index = eps_df.index.map(lambda dt: dt.replace(month=12, day=31))\n",
    "\n",
    "# Set the index column name to \"Date\"\n",
    "eps_df.index.name = 'Date'\n",
    "\n",
    "# Print the modified EPS DataFrame\n",
    "print(eps_df)\n"
   ]
  },
  {
   "cell_type": "markdown",
   "metadata": {},
   "source": [
    "The program uses Diluted EPS instead of basic EPS because it provides a more accurate picture of a company's profitability. Diluted EPS takes into account all potential dilution that could occur from stock-based compensation, warrants, convertible securities, and other dilutive instruments. \n",
    "Diluted EPS is more conservative than basic EPS, which means that it is less likely to be overstated.\n",
    "Diluted EPS is the more commonly used measure of profitability by analysts and investors."
   ]
  },
  {
   "cell_type": "markdown",
   "metadata": {},
   "source": [
    "## Data Loading for Stock Data"
   ]
  },
  {
   "cell_type": "code",
   "execution_count": 10,
   "metadata": {},
   "outputs": [
    {
     "name": "stdout",
     "output_type": "stream",
     "text": [
      "            Closing Price\n",
      "Date                     \n",
      "2019-12-31     230.830002\n",
      "2020-12-31     350.779999\n",
      "2021-12-31     398.690002\n",
      "2022-12-31     320.380005\n",
      "2023-12-31     378.760010\n"
     ]
    }
   ],
   "source": [
    "import yfinance as yf\n",
    "import pandas as pd\n",
    "\n",
    "# Define the ticker symbol for Lululemon\n",
    "ticker_symbol = 'LULU'\n",
    "\n",
    "# Define the years\n",
    "years = [2019, 2020, 2021, 2022, 2023]\n",
    "\n",
    "# Initialize an empty DataFrame to store the data\n",
    "closing_prices = pd.DataFrame(columns=['Closing Price'])\n",
    "\n",
    "# Pull closing stock price for each year\n",
    "for year in years:\n",
    "    # Set the start and end dates for the year\n",
    "    start_date = f'{year}-01-01'\n",
    "    end_date = f'{year}-12-31'\n",
    "    \n",
    "    # Fetch historical data for the year\n",
    "    lululemon = yf.Ticker(ticker_symbol)\n",
    "    historical_data = lululemon.history(period='1d', start=start_date, end=end_date)\n",
    "    \n",
    "    # Check if data is available for the year\n",
    "    if not historical_data.empty:\n",
    "        closing_price = historical_data['Close'].iloc[-1]  # Get the closing price for the last trading day\n",
    "        closing_prices.loc[f'{year}-12-31'] = closing_price\n",
    "\n",
    "# Set the index column name to \"Date\"\n",
    "closing_prices.index.name = 'Date'\n",
    "\n",
    "# Convert the index to datetime format\n",
    "closing_prices.index = pd.to_datetime(closing_prices.index)\n",
    "\n",
    "# Print the closing prices DataFrame\n",
    "print(closing_prices)\n"
   ]
  },
  {
   "cell_type": "markdown",
   "metadata": {},
   "source": [
    "## Data Merging and Visualization"
   ]
  },
  {
   "cell_type": "code",
   "execution_count": 14,
   "metadata": {},
   "outputs": [
    {
     "data": {
      "image/png": "[encoded data removed]",
      "text/plain": [
       "<Figure size 1500x600 with 2 Axes>"
      ]
     },
     "metadata": {},
     "output_type": "display_data"
    },
    {
     "data": {
      "image/png": "[encoded data removed]",
      "text/plain": [
       "<Figure size 1000x600 with 1 Axes>"
      ]
     },
     "metadata": {},
     "output_type": "display_data"
    },
    {
     "name": "stdout",
     "output_type": "stream",
     "text": [
      "             EPS  Closing Price\n",
      "Date                           \n",
      "2019-12-31  4.31     230.830002\n",
      "2020-12-31  4.94     350.779999\n",
      "2021-12-31  4.50     398.690002\n",
      "2022-12-31  7.49     320.380005\n",
      "2023-12-31  6.68     378.760010\n"
     ]
    }
   ],
   "source": [
    "# Merge EPS and stock price data using the index column as the merging key\n",
    "merged_data = pd.merge(eps_df, closing_prices, left_index=True, right_index=True)\n",
    "\n",
    "# Convert 'Date' index to datetime format\n",
    "merged_data.index = pd.to_datetime(merged_data.index)\n",
    "\n",
    "# Create a figure with two subplots\n",
    "plt.figure(figsize=(15, 6))\n",
    "\n",
    "# Plot EPS trends over time on the left subplot\n",
    "plt.subplot(1, 2, 1)\n",
    "plt.plot(merged_data.index, merged_data['EPS'], marker='o', label='EPS')\n",
    "plt.xlabel('Date')\n",
    "plt.ylabel('EPS ($)')\n",
    "plt.title('Earnings Per Share (EPS) Trends')\n",
    "plt.legend()\n",
    "plt.grid(True)\n",
    "\n",
    "# Plot the closing stock price over time on the right subplot\n",
    "plt.subplot(1, 2, 2)\n",
    "plt.plot(merged_data.index, merged_data['Closing Price'], marker='o', label='Stock Price')\n",
    "plt.xlabel('Date')\n",
    "plt.ylabel('Closing Price ($)')\n",
    "plt.title('Closing Price Over Time')\n",
    "plt.legend()\n",
    "plt.grid(True)\n",
    "\n",
    "# Adjust layout\n",
    "plt.tight_layout()\n",
    "\n",
    "# Show the plots\n",
    "plt.show()\n",
    "\n",
    "# Plot the relationship between EPS and closing prices\n",
    "plt.figure(figsize=(10, 6))\n",
    "plt.scatter(merged_data['EPS'], merged_data['Closing Price'], color='blue')\n",
    "plt.xlabel('EPS')\n",
    "plt.ylabel('Closing Stock Price')\n",
    "plt.title('EPS vs. Closing Stock Price')\n",
    "plt.grid(True)\n",
    "plt.show()"
   ]
  },
  {
   "cell_type": "markdown",
   "metadata": {},
   "source": [
    "The data suggests some interesting trends. For instance, there are fluctuations in both EPS and closing stock prices across the years. The EPS increased notably from 2019 to 2020, but then experienced a decrease in 2021 before experiencing a significant increase in 2022. The closing stock prices also show some variation, with the highest value in 2021 and fluctuations in other years."
   ]
  },
  {
   "cell_type": "markdown",
   "metadata": {},
   "source": [
    "There are a few possible explanations for this discrepancy between EPS and closing stock price. One possibility is that the market is not fully pricing in Lululemon's strong earnings growth. Another possibility is that investors are concerned about the company's future growth prospects. It is also possible that the recent decline in the stock market has also affected Lululemon's share price.\n",
    "\n",
    "Overall, the data shows that Lululemon has been a profitable company in recent years. However, the stock price has not always reflected the company's earnings performance. Investors should carefully consider the company's future prospects before investing in its stock."
   ]
  },
  {
   "cell_type": "markdown",
   "metadata": {},
   "source": [
    "# Sensitivity Analysis\n",
    "Assesses the impact of changes in key variables on a company's net income"
   ]
  },
  {
   "cell_type": "code",
   "execution_count": 12,
   "metadata": {},
   "outputs": [
    {
     "data": {
      "image/png": "[encoded data removed]",
      "text/plain": [
       "<Figure size 1000x600 with 1 Axes>"
      ]
     },
     "metadata": {},
     "output_type": "display_data"
    },
    {
     "name": "stdout",
     "output_type": "stream",
     "text": [
      "Scenario with the Highest Net Income:\n",
      "     Sales Volume  Selling Price  Variable Costs  Net Income\n",
      "440      84000000            140              40  7983335000\n"
     ]
    }
   ],
   "source": [
    "# Provide the necessary inputs\n",
    "units_produced_2022 = 121500000 # assumed total production amount in 2022 based off 2021 (4,500,000) and 2020 (4,000,000) annual reports\n",
    "total_variable_costs = 6853396000 # from calculation above\n",
    "variable_costs_per_unit = total_variable_costs / units_produced_2022 # Example variable costs per unit\n",
    "selling_price_per_unit = 110  # Average selling price per unit\n",
    "\n",
    "# Define ranges of changes for sensitivity analysis\n",
    "sales_volume_range = range(77000000, 85000000, 1000000)  # Range of sales volume changes\n",
    "selling_price_range = range(80, 150, 10)  # Range of selling price changes\n",
    "variable_costs_range = range(40, 80, 5)  # Range of variable costs changes\n",
    "\n",
    "# Initialize data storage\n",
    "sensitivity_data = []\n",
    "\n",
    "# Perform sensitivity analysis\n",
    "for sv in sales_volume_range:\n",
    "    for sp in selling_price_range:\n",
    "        for vc in variable_costs_range:\n",
    "            # Calculate total revenue, total variable costs, and net income\n",
    "            total_revenue = sv * sp\n",
    "            total_variable_costs = sv * vc\n",
    "            net_income = total_revenue - total_variable_costs - total_fixed_costs \n",
    "            \n",
    "            sensitivity_data.append((sv, sp, vc, net_income))\n",
    "\n",
    "# Create a DataFrame to store the sensitivity analysis results\n",
    "columns = ['Sales Volume', 'Selling Price', 'Variable Costs', 'Net Income']\n",
    "sensitivity_df = pd.DataFrame(sensitivity_data, columns=columns)\n",
    "\n",
    "# Visualize the results\n",
    "plt.figure(figsize=(10, 6))\n",
    "plt.scatter(sensitivity_df['Net Income'], sensitivity_df.index, color='blue', marker='o')\n",
    "plt.xlabel('Net Income')\n",
    "plt.ylabel('Scenario')\n",
    "plt.title('Sensitivity Analysis: Net Income vs. Scenarios')\n",
    "plt.grid(True)\n",
    "plt.show()\n",
    "\n",
    "# Find the scenario with the highest net income\n",
    "max_net_income_scenario = sensitivity_df[sensitivity_df['Net Income'] == sensitivity_df['Net Income'].max()]\n",
    "print(\"Scenario with the Highest Net Income:\")\n",
    "print(max_net_income_scenario)\n"
   ]
  },
  {
   "cell_type": "markdown",
   "metadata": {},
   "source": [
    "#### Ideal Scenario with Highest Net Income\n",
    "- Sales Volume: 84,000,000\n",
    "- Selling Price: $140\n",
    "- Variable Costs: $40\n",
    "- Net Income: $7,983,335,000"
   ]
  },
  {
   "cell_type": "code",
   "execution_count": 13,
   "metadata": {},
   "outputs": [
    {
     "name": "stdout",
     "output_type": "stream",
     "text": [
      "     Sales Volume  Selling Price  Variable Costs  Net Income\n",
      "0        77000000             80              40  2663335000\n",
      "1        77000000             80              45  2278335000\n",
      "2        77000000             80              50  1893335000\n",
      "3        77000000             80              55  1508335000\n",
      "4        77000000             80              60  1123335000\n",
      "..            ...            ...             ...         ...\n",
      "443      84000000            140              55  6723335000\n",
      "444      84000000            140              60  6303335000\n",
      "445      84000000            140              65  5883335000\n",
      "446      84000000            140              70  5463335000\n",
      "447      84000000            140              75  5043335000\n",
      "\n",
      "[448 rows x 4 columns]\n"
     ]
    }
   ],
   "source": [
    "print(sensitivity_df)"
   ]
  },
  {
   "cell_type": "markdown",
   "metadata": {},
   "source": [
    "### Discussion of Results and Visualization \n",
    "\n",
    "#### Impact of Sales Volume:\n",
    "The analysis explores a range of sales volume changes, from 77 million units to 84 million units. The results show that as sales volume increases, net income also tends to increase. This is an expected outcome, as higher sales volumes contribute to greater total revenue. The scenario with the highest net income (Sales Volume: 84 million) indicates the potential benefits of expanding market reach or increasing customer demand.\n",
    "\n",
    "#### Effect of Selling Price:\n",
    "By varying the selling price per unit between $80 and $140, the analysis demonstrates the impact of pricing decisions on net income. Higher selling prices can lead to increased net income, but there's likely a balance to strike to maintain customer demand. The scenario with the highest net income (Selling Price: $140) highlights the potential advantage of premium pricing under the right conditions.\n",
    "\n",
    "#### Influence of Variable Costs:\n",
    "The sensitivity analysis explores the influence of variable costs per unit on net income by considering values between $40 and $75. Lower variable costs can boost net income, as higher profit margins are achieved for each unit sold. The scenario with the highest net income (Variable Costs: $40) suggests that optimizing production costs can significantly impact the company's financial performance.\n",
    "\n",
    "#### Optimal Scenario:\n",
    "The scenario with the highest net income involves a combination of factors that are favorable for the company: higher sales volume, a premium selling price, and lower variable costs. This scenario represents an ideal balance between revenue generation and cost management. Identifying such an optimal scenario can guide strategic decisions to maximize profitability.\n",
    "\n",
    "#### Visual Representation:\n",
    "The scatter plot visualization allows for a quick overview of the entire sensitivity analysis. Patterns in the data can be observed, such as a general trend of increasing net income with higher sales volume and selling price, as well as decreasing variable costs. This visualization aids in identifying outliers and understanding the relationship between variables.\n",
    "\n",
    "#### Decision-Making Insights:\n",
    "The results of the sensitivity analysis provide decision-makers with insights into how changes in key variables impact the company's financial health. These insights can guide pricing strategies, production optimization efforts, and sales projections. The analysis serves as a tool for evaluating potential risks and opportunities associated with different business scenarios.\n",
    "\n",
    "#### Business Strategy Alignment:\n",
    "The sensitivity analysis aligns with Lululemon's business objectives, such as improving net income and making informed decisions based on data. The insights gained from this analysis can inform strategies to enhance profitability and guide resource allocation."
   ]
  }
 ],
 "metadata": {
  "kernelspec": {
   "display_name": "Python 3",
   "language": "python",
   "name": "python3"
  },
  "language_info": {
   "codemirror_mode": {
    "name": "ipython",
    "version": 3
   },
   "file_extension": ".py",
   "mimetype": "text/x-python",
   "name": "python",
   "nbconvert_exporter": "python",
   "pygments_lexer": "ipython3",
   "version": "3.11.4"
  },
  "orig_nbformat": 4
 },
 "nbformat": 4,
 "nbformat_minor": 2
}
